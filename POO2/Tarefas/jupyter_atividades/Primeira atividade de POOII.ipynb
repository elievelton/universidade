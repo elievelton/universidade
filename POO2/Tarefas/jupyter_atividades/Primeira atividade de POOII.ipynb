{
 "cells": [
  {
   "cell_type": "markdown",
   "id": "6aa3fec8-2af5-4657-aacf-5ab4d0fa56c2",
   "metadata": {},
   "source": [
    "1. Tarefa"
   ]
  },
  {
   "cell_type": "markdown",
   "id": "b4b9e35b-706a-4ba8-b2aa-533db117302b",
   "metadata": {},
   "source": [
    "### Questão 1: Faça um programa que peça a temperatura em graus Farenheit e nostre a temperatura em celsius c = (5*(f-32)/9)"
   ]
  },
  {
   "cell_type": "code",
   "execution_count": 1,
   "id": "5ed8be73-d596-476a-ad57-424fe2ddb8f0",
   "metadata": {},
   "outputs": [
    {
     "name": "stdin",
     "output_type": "stream",
     "text": [
      "Digite um valor em farenheit para converte em Celsius 89\n"
     ]
    },
    {
     "name": "stdout",
     "output_type": "stream",
     "text": [
      "O valor convertido em Celsius é 31.666666666666668 \n"
     ]
    }
   ],
   "source": [
    "fa = int(input(\"Digite um valor em farenheit para converte em Celsius\"))\n",
    "ce = (5*(fa-32)/9)\n",
    "print(\"O valor convertido em Celsius é {} \".format(ce))"
   ]
  },
  {
   "cell_type": "markdown",
   "id": "c0910301-fef4-46d2-b90a-3a4c804a7675",
   "metadata": {},
   "source": [
    "### Questão 2: João Papo-de-Pescador, homem de bem, comprou um microcomputador para controlar o rendimento diário de seu trabalho. Toda vez que ele traz um peso de peixes maior que o estabelecido pelo regulamento de pesca do estado de São Paulo (50 quilos) deve pagar uma multa de R$ 4,00 por quilo excedente. João precisa que você faça um programa que leia a variável peso (peso de peixes) e calcule o excesso. Gravar na variável excesso a quantidadede quilos além do limite e na variável multa o valor da multa que João deverá pagar. Imprima os dados do programa com as mensagens adequadas."
   ]
  },
  {
   "cell_type": "code",
   "execution_count": 2,
   "id": "ef250709-063c-48c1-bba4-5dcd2ea44cd5",
   "metadata": {},
   "outputs": [
    {
     "name": "stdin",
     "output_type": "stream",
     "text": [
      "Quantos quilos você pescou? 53\n"
     ]
    },
    {
     "name": "stdout",
     "output_type": "stream",
     "text": [
      "Você está devendo ao Leão R$ 12.0\n"
     ]
    }
   ],
   "source": [
    "lmt_kg = 50\n",
    "multa = 4.0\n",
    "pescado = int(input(\"Quantos quilos você pescou?\"))\n",
    "calculo = pescado - lmt_kg\n",
    "if calculo<= 0:\n",
    "    print(\"Sem multas dessa vez!\")\n",
    "else:\n",
    "    leao = calculo * multa\n",
    "    print(\"Você está devendo ao Leão R$ {}\".format(leao))\n"
   ]
  },
  {
   "cell_type": "markdown",
   "id": "864e6cb9-7526-480e-a546-a4c07f048282",
   "metadata": {},
   "source": [
    "### Questão 3: Faça um Programa que pergunte quanto você ganha por hora e o número de horas trabalhadas no mês. Calcule e mostre o total do seu salário no referido mês, sabendo-se que são descontados 11% para o Imposto de Renda, 8% para o INSS e 5% para o sindicato, faça um programa que nos dê: salário bruto. quanto pagou ao INSS. quanto pagou ao sindicato. o salário líquido. calcule os descontos e o salário líquido, conforme a tabela abaixo: + Salário Bruto : Rs - IR (11%) : Rs - INSS (8%) : Rs - Sindicato ( 5%) : Rs = Salário Liquido : R$"
   ]
  },
  {
   "cell_type": "code",
   "execution_count": 8,
   "id": "4b656887-4782-43fe-b576-94d8f9666cec",
   "metadata": {},
   "outputs": [
    {
     "name": "stdin",
     "output_type": "stream",
     "text": [
      "Quanto você ganha por hora trabalhada? 10\n",
      "Quantas horas  você trabalha por mês? 160\n"
     ]
    },
    {
     "name": "stdout",
     "output_type": "stream",
     "text": [
      "O desconto do IR foi de 176.0\n",
      "O desconto do INSS doi de 128.0\n",
      "O desconto do sindicato foi de 80.0\n",
      "Total dos descontos 384.0\n",
      "O salário bruto é de 1600\n",
      "Seu salário liquido é de 1216.0\n"
     ]
    }
   ],
   "source": [
    "val_hora = int(input(\"Quanto você ganha por hora trabalhada?\"))\n",
    "hora_mes = int(input(\"Quantas horas  você trabalha por mês?\"))\n",
    "salario = val_hora * hora_mes\n",
    "ir =11/100 *salario\n",
    "inss = 8/100 *salario\n",
    "sid = 5/100 *salario\n",
    "desconto_total = ir + inss + sid\n",
    "print(\"O desconto do IR foi de {}\".format(ir))\n",
    "print(\"O desconto do INSS doi de {}\".format(inss))\n",
    "print(\"O desconto do sindicato foi de {}\".format(sid))\n",
    "print(\"Total dos descontos {}\".format(desconto_total))\n",
    "print(\"O salário bruto é de {}\".format(salario))\n",
    "print(\"Seu salário liquido é de {}\" .format(salario - desconto_total))             \n",
    "\n",
    "                "
   ]
  }
 ],
 "metadata": {
  "kernelspec": {
   "display_name": "Python 3 (ipykernel)",
   "language": "python",
   "name": "python3"
  },
  "language_info": {
   "codemirror_mode": {
    "name": "ipython",
    "version": 3
   },
   "file_extension": ".py",
   "mimetype": "text/x-python",
   "name": "python",
   "nbconvert_exporter": "python",
   "pygments_lexer": "ipython3",
   "version": "3.7.3"
  }
 },
 "nbformat": 4,
 "nbformat_minor": 5
}
