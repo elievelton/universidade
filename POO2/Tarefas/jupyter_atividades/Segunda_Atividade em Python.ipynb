{
 "cells": [
  {
   "cell_type": "markdown",
   "id": "9fba7d9b-3997-4f49-bf25-922ce85fef1c",
   "metadata": {},
   "source": [
    "### Cria um programa em Python com classes que simule uma conta bancária com (saques, transferências, depósitos e tenha históricos)"
   ]
  },
  {
   "cell_type": "code",
   "execution_count": 9,
   "id": "d427bf5b-859e-423e-a194-a0c6016a4f40",
   "metadata": {},
   "outputs": [],
   "source": [
    "import datetime"
   ]
  },
  {
   "cell_type": "code",
   "execution_count": null,
   "id": "22ecffb7-829e-42b3-be8c-82c38a3c6792",
   "metadata": {},
   "outputs": [
    {
     "name": "stdout",
     "output_type": "stream",
     "text": [
      "Data de abertura: 2022-02-11 19:24:48.328722\n",
      "transações: \n",
      "- Depositou o valor de: 100\n",
      "- Sacou o valor de: 50\n",
      "Data de abertura: 2022-02-11 19:24:48.328750\n",
      "transações: \n",
      "- Depositou o valor de: 200\n",
      "- Sacou o valor de: 100\n",
      "Data de abertura: 2022-02-11 19:24:48.328722\n",
      "transações: \n",
      "- Depositou o valor de: 100\n",
      "- Sacou o valor de: 50\n",
      "- Sacou o valor de: 235\n",
      "Data de abertura: 2022-02-11 19:24:48.328750\n",
      "transações: \n",
      "- Depositou o valor de: 200\n",
      "- Sacou o valor de: 100\n",
      "- Sacou o valor de: 126\n"
     ]
    }
   ],
   "source": [
    "class Cliente:\n",
    "    def __init__(self,nome,sobre_nome,cpf):\n",
    "        self.nome = nome\n",
    "        self.sobre_nome = sobre_nome\n",
    "        self.cpf = cpf\n",
    "\n",
    "class Historico:\n",
    "    def __init__(self):\n",
    "        self.data_de_abertura = datetime.datetime.today()\n",
    "        self.transacoes = []\n",
    "        \n",
    "    def imprime(self):\n",
    "        print(\"Data de abertura: {}\".format(self.data_de_abertura))\n",
    "        print(\"transações: \")\n",
    "        for t in self.transacoes:\n",
    "              print(\"-\",t)\n",
    "class Conta:\n",
    "    def __init__(self,numero,cliente,saldo,limite):\n",
    "        self.numero = numero\n",
    "        self.titular = cliente\n",
    "        self.saldo = saldo\n",
    "        self.limite = limite\n",
    "        self.historico = Historico()\n",
    "        \n",
    "    def deposita(self, novo_valor):\n",
    "        self.saldo += novo_valor\n",
    "        self.historico.transacoes.append(\"Depositou o valor de: {}\".format(novo_valor))\n",
    "                                         \n",
    "    def sacar(self, novo_valor):\n",
    "        if (self.saldo < novo_valor):\n",
    "            return False\n",
    "        else:\n",
    "            self.saldo -= novo_valor\n",
    "            self.historico.transacoes.append(\"Sacou o valor de: {}\".format(novo_valor))\n",
    "            return False\n",
    "    \n",
    "    def transfere(self, destino, valor):\n",
    "        retirou = self.sacar(valor)\n",
    "        if (retirou == False):\n",
    "            return False\n",
    "        else:\n",
    "            destino.deposita(valor)\n",
    "            self.historico.transacoes.append(\"Transferiu o valor de: {} para a conta {}\".format(valor, destino.numero))\n",
    "            return True\n",
    "    \n",
    "    def extrato(self):\n",
    "        print(\"Numero: {} \\nsaldo: {}\".format(self.numero, self.saldo))\n",
    "        self.historico.transacoes.append(\"Tirou extrato - Saldo de: {}\".format(self.saldo))\n",
    "\n",
    "cliente1 = Cliente('elievelto','edimar','00899987')\n",
    "cliente2 = Cliente('dougla','edimar','0231231')\n",
    "conta1 = Conta(1243,cliente1,200,500)\n",
    "conta2= Conta(122,cliente1,400,1000)\n",
    "conta1.deposita(100)\n",
    "conta1.sacar(50)\n",
    "conta1.historico.imprime()\n",
    "conta2.deposita(200)\n",
    "conta2.sacar(100)\n",
    "conta2.historico.imprime()\n",
    "conta2.transfere(conta1,126)\n",
    "conta1.extrato\n",
    "conta1.transfere(conta2,235)\n",
    "conta1.historico.imprime()\n",
    "conta2.historico.imprime()\n"
   ]
  },
  {
   "cell_type": "code",
   "execution_count": null,
   "id": "f1994012-224f-4941-965f-979e80f1cecf",
   "metadata": {},
   "outputs": [],
   "source": []
  },
  {
   "cell_type": "code",
   "execution_count": null,
   "id": "d71a0f7c-d9a2-4340-82dc-bfe604de9b62",
   "metadata": {},
   "outputs": [],
   "source": []
  }
 ],
 "metadata": {
  "kernelspec": {
   "display_name": "Python 3 (ipykernel)",
   "language": "python",
   "name": "python3"
  },
  "language_info": {
   "codemirror_mode": {
    "name": "ipython",
    "version": 3
   },
   "file_extension": ".py",
   "mimetype": "text/x-python",
   "name": "python",
   "nbconvert_exporter": "python",
   "pygments_lexer": "ipython3",
   "version": "3.7.3"
  }
 },
 "nbformat": 4,
 "nbformat_minor": 5
}
